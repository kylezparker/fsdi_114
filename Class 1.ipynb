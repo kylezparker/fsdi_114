{
 "cells": [
  {
   "cell_type": "code",
   "execution_count": 1,
   "id": "94bcd00e",
   "metadata": {},
   "outputs": [
    {
     "name": "stdout",
     "output_type": "stream",
     "text": [
      "H\n",
      "e\n",
      "l\n",
      "l\n",
      "o\n",
      ",\n",
      " \n",
      "w\n",
      "o\n",
      "r\n",
      "l\n",
      "d\n",
      ":\n"
     ]
    }
   ],
   "source": [
    "for letter in \"Hello, world:\":\n",
    "    print(letter)\n",
    "    "
   ]
  },
  {
   "cell_type": "markdown",
   "id": "fec901c3",
   "metadata": {},
   "source": [
    "# Problem 1\n",
    "### given two strings, string a nd string b, lets check whether or not thses are amaagrams of each other given the gfolliwung criteria:\n",
    "\n",
    "#### two strings are anagrams of each other if all conditions are met:\n",
    "1. they must be exactly of the same length\n",
    "2. they must use the exact same characters\n"
   ]
  },
  {
   "cell_type": "code",
   "execution_count": 2,
   "id": "2f825723",
   "metadata": {},
   "outputs": [],
   "source": [
    "# instructions:pop the fn below, so that it returns true if parameters are anagrams,\n",
    "# false otherwise\n",
    "\n",
    "def are_anagrams(string_a, string_b):\n",
    "    pass # remove pass when youve implemented soln"
   ]
  },
  {
   "cell_type": "code",
   "execution_count": 4,
   "id": "b01dc2ef",
   "metadata": {},
   "outputs": [],
   "source": [
    "# bad soln\n",
    "\n",
    "def bad_are_anagrams(string_a, string_b):\n",
    "    return sorted(string_a) == sorted(string_b) "
   ]
  },
  {
   "cell_type": "code",
   "execution_count": 5,
   "id": "14d84099",
   "metadata": {},
   "outputs": [
    {
     "data": {
      "text/plain": [
       "True"
      ]
     },
     "execution_count": 5,
     "metadata": {},
     "output_type": "execute_result"
    }
   ],
   "source": [
    "bad_are_anagrams(\"cars\", \"scar\")"
   ]
  },
  {
   "cell_type": "code",
   "execution_count": null,
   "id": "0bcc7da1",
   "metadata": {},
   "outputs": [],
   "source": []
  }
 ],
 "metadata": {
  "kernelspec": {
   "display_name": "Python 3.8.10 ('venv': venv)",
   "language": "python",
   "name": "python3"
  },
  "language_info": {
   "codemirror_mode": {
    "name": "ipython",
    "version": 3
   },
   "file_extension": ".py",
   "mimetype": "text/x-python",
   "name": "python",
   "nbconvert_exporter": "python",
   "pygments_lexer": "ipython3",
   "version": "3.8.10"
  },
  "vscode": {
   "interpreter": {
    "hash": "9617643d1cb86ecee87112aba989493d37eacef7b6568a20fd84f5d540460fa7"
   }
  }
 },
 "nbformat": 4,
 "nbformat_minor": 5
}
